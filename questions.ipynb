{
 "cells": [
  {
   "cell_type": "code",
   "execution_count": 1,
   "metadata": {},
   "outputs": [
    {
     "name": "stdout",
     "output_type": "stream",
     "text": [
      "Emory ID: 2585210\n"
     ]
    }
   ],
   "source": [
    "# Print your Emory ID here\n",
    "print(\"Emory ID: 2585210\")"
   ]
  },
  {
   "cell_type": "code",
   "execution_count": 2,
   "metadata": {},
   "outputs": [],
   "source": [
    "# Import the necessary libraries and load the data\n",
    "import pandas as pd\n",
    "import numpy as np"
   ]
  },
  {
   "cell_type": "markdown",
   "metadata": {},
   "source": [
    "1. An online password attack is when someone tries to hack your account by simply trying a very large number of username/password combinations to access your account. For each `password` in our dataset, the `value` column shows the amount of time it is estimated to take an “online password attack” to hack your account. The column `time_unit` shows the units of that time value (e.g., hours, days, years, etc.). It would be much nicer if our values were of the same units so we can more easily compare the “online password guessing time” for each password. So your first task is to convert all of the values to units of hours (assume the conversion units provided below, e.g., 1 day is 24 hours, 1 week is 168 hours, etc)."
   ]
  },
  {
   "cell_type": "code",
   "execution_count": 24,
   "metadata": {},
   "outputs": [
    {
     "data": {
      "text/html": [
       "<div>\n",
       "<style scoped>\n",
       "    .dataframe tbody tr th:only-of-type {\n",
       "        vertical-align: middle;\n",
       "    }\n",
       "\n",
       "    .dataframe tbody tr th {\n",
       "        vertical-align: top;\n",
       "    }\n",
       "\n",
       "    .dataframe thead th {\n",
       "        text-align: right;\n",
       "    }\n",
       "</style>\n",
       "<table border=\"1\" class=\"dataframe\">\n",
       "  <thead>\n",
       "    <tr style=\"text-align: right;\">\n",
       "      <th></th>\n",
       "      <th>password</th>\n",
       "      <th>value</th>\n",
       "      <th>time_unit</th>\n",
       "      <th>hours</th>\n",
       "    </tr>\n",
       "  </thead>\n",
       "  <tbody>\n",
       "    <tr>\n",
       "      <th>0</th>\n",
       "      <td>password</td>\n",
       "      <td>6.91</td>\n",
       "      <td>years</td>\n",
       "      <td>60531.600000</td>\n",
       "    </tr>\n",
       "    <tr>\n",
       "      <th>1</th>\n",
       "      <td>123456</td>\n",
       "      <td>18.52</td>\n",
       "      <td>minutes</td>\n",
       "      <td>0.308667</td>\n",
       "    </tr>\n",
       "    <tr>\n",
       "      <th>2</th>\n",
       "      <td>12345678</td>\n",
       "      <td>1.29</td>\n",
       "      <td>days</td>\n",
       "      <td>30.960000</td>\n",
       "    </tr>\n",
       "    <tr>\n",
       "      <th>3</th>\n",
       "      <td>1234</td>\n",
       "      <td>11.11</td>\n",
       "      <td>seconds</td>\n",
       "      <td>0.003086</td>\n",
       "    </tr>\n",
       "    <tr>\n",
       "      <th>4</th>\n",
       "      <td>qwerty</td>\n",
       "      <td>3.72</td>\n",
       "      <td>days</td>\n",
       "      <td>89.280000</td>\n",
       "    </tr>\n",
       "    <tr>\n",
       "      <th>...</th>\n",
       "      <td>...</td>\n",
       "      <td>...</td>\n",
       "      <td>...</td>\n",
       "      <td>...</td>\n",
       "    </tr>\n",
       "    <tr>\n",
       "      <th>502</th>\n",
       "      <td>NaN</td>\n",
       "      <td>NaN</td>\n",
       "      <td>NaN</td>\n",
       "      <td>NaN</td>\n",
       "    </tr>\n",
       "    <tr>\n",
       "      <th>503</th>\n",
       "      <td>NaN</td>\n",
       "      <td>NaN</td>\n",
       "      <td>NaN</td>\n",
       "      <td>NaN</td>\n",
       "    </tr>\n",
       "    <tr>\n",
       "      <th>504</th>\n",
       "      <td>NaN</td>\n",
       "      <td>NaN</td>\n",
       "      <td>NaN</td>\n",
       "      <td>NaN</td>\n",
       "    </tr>\n",
       "    <tr>\n",
       "      <th>505</th>\n",
       "      <td>NaN</td>\n",
       "      <td>NaN</td>\n",
       "      <td>NaN</td>\n",
       "      <td>NaN</td>\n",
       "    </tr>\n",
       "    <tr>\n",
       "      <th>506</th>\n",
       "      <td>NaN</td>\n",
       "      <td>NaN</td>\n",
       "      <td>NaN</td>\n",
       "      <td>NaN</td>\n",
       "    </tr>\n",
       "  </tbody>\n",
       "</table>\n",
       "<p>507 rows × 4 columns</p>\n",
       "</div>"
      ],
      "text/plain": [
       "     password  value time_unit         hours\n",
       "0    password   6.91     years  60531.600000\n",
       "1      123456  18.52   minutes      0.308667\n",
       "2    12345678   1.29      days     30.960000\n",
       "3        1234  11.11   seconds      0.003086\n",
       "4      qwerty   3.72      days     89.280000\n",
       "..        ...    ...       ...           ...\n",
       "502       NaN    NaN       NaN           NaN\n",
       "503       NaN    NaN       NaN           NaN\n",
       "504       NaN    NaN       NaN           NaN\n",
       "505       NaN    NaN       NaN           NaN\n",
       "506       NaN    NaN       NaN           NaN\n",
       "\n",
       "[507 rows x 4 columns]"
      ]
     },
     "execution_count": 24,
     "metadata": {},
     "output_type": "execute_result"
    }
   ],
   "source": [
    "# Your answer here \n",
    "passwords = pd.read_csv('passwords.csv')\n",
    "\n",
    "units = {\n",
    "    \"seconds\": 1 / 3600,\n",
    "    \"minutes\": 1 / 60,\n",
    "    \"days\": 24,\n",
    "    \"weeks\": 168,\n",
    "    \"months\": 720,\n",
    "    \"years\": 8760,\n",
    "}\n",
    "# Apply the conversion factor to each row in the dataset\n",
    "passwords['hours'] = passwords.apply(lambda row: row['value'] * units.get(row['time_unit'], 1), axis=1)\n",
    "\n",
    "# Display the resulting DataFrame with the new 'hours' column\n",
    "passwords[['password', 'value', 'time_unit', 'hours']]\n"
   ]
  },
  {
   "cell_type": "markdown",
   "metadata": {},
   "source": [
    "2. Are there any missing values in the dataset? If so, how many? After you have counted the, please drop them from the dataset."
   ]
  },
  {
   "cell_type": "code",
   "execution_count": 45,
   "metadata": {},
   "outputs": [
    {
     "name": "stdout",
     "output_type": "stream",
     "text": [
      "Total missing values in the dataset: 77\n",
      "Shape of the dataset after dropping missing values: (500, 13)\n"
     ]
    }
   ],
   "source": [
    "# Check for missing values in the dataset\n",
    "missing_values_count = passwords.isnull().sum().sum()  # Total count of missing values\n",
    "\n",
    "# Display the number of missing values\n",
    "print(\"Total missing values in the dataset:\", missing_values_count)\n",
    "\n",
    "# Step to drop missing values from the dataset\n",
    "if missing_values_count > 0:\n",
    "    passwords = passwords.dropna()\n",
    "\n",
    "# Display the shape of the dataset after dropping missing values\n",
    "print(\"Shape of the dataset after dropping missing values:\", passwords.shape)\n"
   ]
  },
  {
   "cell_type": "markdown",
   "metadata": {},
   "source": [
    "3. Which password category has the highest average strength?\n"
   ]
  },
  {
   "cell_type": "code",
   "execution_count": 46,
   "metadata": {},
   "outputs": [
    {
     "name": "stdout",
     "output_type": "stream",
     "text": [
      "The category with the highest average strength is 'password-related' with an average strength of 62599.04626666666 hours.\n"
     ]
    }
   ],
   "source": [
    "# Your answer here\n",
    "\n",
    "# Group by the 'category' column and calculate the average 'hours' for each category\n",
    "average_strength_by_category = passwords.groupby('category')['hours'].mean()\n",
    "\n",
    "# Find the category with the highest average strength\n",
    "strongest_category = average_strength_by_category.idxmax()\n",
    "highest_avg_strength = average_strength_by_category.max()\n",
    "\n",
    "print(f\"The category with the highest average strength is '{strongest_category}' with an average strength of {highest_avg_strength} hours.\")\n",
    "\n"
   ]
  },
  {
   "cell_type": "markdown",
   "metadata": {},
   "source": [
    "4. What is the rank of the password 'qwerty'?"
   ]
  },
  {
   "cell_type": "code",
   "execution_count": 47,
   "metadata": {},
   "outputs": [
    {
     "name": "stdout",
     "output_type": "stream",
     "text": [
      "The password 'qwerty' ranks at position 224 based on strength.\n"
     ]
    }
   ],
   "source": [
    "# Your answer here\n",
    "# Sort passwords by 'hours' in descending order\n",
    "passwords_sorted = passwords.sort_values(by='hours', ascending=False).reset_index(drop=True)\n",
    "\n",
    "# Find the rank of the password 'qwerty'\n",
    "qwerty_rank = passwords_sorted[passwords_sorted['password'] == 'qwerty'].index[0] + 1\n",
    "\n",
    "print(f\"The password 'qwerty' ranks at position {qwerty_rank} based on strength.\")\n"
   ]
  },
  {
   "cell_type": "markdown",
   "metadata": {},
   "source": [
    "5. How many passwords have more than 8 characters?"
   ]
  },
  {
   "cell_type": "code",
   "execution_count": 48,
   "metadata": {},
   "outputs": [
    {
     "name": "stdout",
     "output_type": "stream",
     "text": [
      "There are 1 passwords with more than 8 characters.\n"
     ]
    }
   ],
   "source": [
    "# Your answer here\n",
    "# Count passwords with more than 8 characters\n",
    "long_passwords_count = passwords[passwords['password'].str.len() > 8].shape[0]\n",
    "\n",
    "print(f\"There are {long_passwords_count} passwords with more than 8 characters.\")\n"
   ]
  },
  {
   "cell_type": "markdown",
   "metadata": {},
   "source": [
    "6. How many passwords do not contain a number?"
   ]
  },
  {
   "cell_type": "code",
   "execution_count": 49,
   "metadata": {},
   "outputs": [
    {
     "name": "stdout",
     "output_type": "stream",
     "text": [
      "There are 446 passwords that do not contain a number.\n"
     ]
    }
   ],
   "source": [
    "# Your answer here\n",
    "# Count passwords that do not contain any numbers\n",
    "no_number_passwords_count = passwords[~passwords['password'].str.contains(r'\\d')].shape[0]\n",
    "\n",
    "print(f\"There are {no_number_passwords_count} passwords that do not contain a number.\")\n"
   ]
  },
  {
   "cell_type": "markdown",
   "metadata": {},
   "source": [
    "7. What is the average time in hours needed to crack these passwords that begin with `123`? How does this compare to the average of all passwords in the dataset?"
   ]
  },
  {
   "cell_type": "code",
   "execution_count": 50,
   "metadata": {},
   "outputs": [
    {
     "name": "stdout",
     "output_type": "stream",
     "text": [
      "Average time (in hours) to crack passwords starting with '123': 107.30332438271606\n",
      "Overall average time (in hours) to crack all passwords: 13917.565247227776\n"
     ]
    }
   ],
   "source": [
    "# Assuming 'passwords' DataFrame already contains the 'hours' column\n",
    "\n",
    "# Step 1: Filter passwords that begin with '123'\n",
    "filtered_passwords = passwords[passwords['password'].str.startswith('123')]\n",
    "\n",
    "# Step 2: Calculate the average time in hours for passwords starting with '123'\n",
    "average_time_123 = filtered_passwords['hours'].mean()\n",
    "\n",
    "# Step 3: Calculate the overall average time in hours for all passwords\n",
    "overall_average_time = passwords['hours'].mean()\n",
    "\n",
    "# Step 4: Display the results\n",
    "print(\"Average time (in hours) to crack passwords starting with '123':\", average_time_123)\n",
    "print(\"Overall average time (in hours) to crack all passwords:\", overall_average_time)\n"
   ]
  },
  {
   "cell_type": "markdown",
   "metadata": {},
   "source": [
    "8. What percentage of passwords are of the `simple-alphanumeric` category?"
   ]
  },
  {
   "cell_type": "code",
   "execution_count": 29,
   "metadata": {},
   "outputs": [
    {
     "name": "stdout",
     "output_type": "stream",
     "text": [
      "Percentage of simple-alphanumeric passwords: 12.03155818540434\n"
     ]
    }
   ],
   "source": [
    "# Your answer here\n",
    "# Count the number of 'simple-alphanumeric' passwords\n",
    "simple_alphanumeric_count = passwords[passwords['category'] == 'simple-alphanumeric'].shape[0]\n",
    "\n",
    "# Calculate the percentage\n",
    "total_passwords = passwords.shape[0]\n",
    "simple_alphanumeric_percentage = (simple_alphanumeric_count / total_passwords) * 100\n",
    "\n",
    "# Display the result\n",
    "print(\"Percentage of simple-alphanumeric passwords:\", simple_alphanumeric_percentage)\n"
   ]
  },
  {
   "cell_type": "markdown",
   "metadata": {},
   "source": [
    "9. How many passwords have a strength rating below 5? What is their percentage?"
   ]
  },
  {
   "cell_type": "code",
   "execution_count": 31,
   "metadata": {},
   "outputs": [
    {
     "name": "stdout",
     "output_type": "stream",
     "text": [
      "Number of passwords with strength rating below 5: 73\n",
      "Percentage of passwords with strength rating below 5: 14.398422090729785\n"
     ]
    }
   ],
   "source": [
    "# Your answer here\n",
    "# Filter passwords with strength rating below 5\n",
    "weak_passwords_count = passwords[passwords['strength'] < 5].shape[0]\n",
    "\n",
    "# Calculate the percentage of passwords with strength rating below 5\n",
    "total_passwords = passwords.shape[0]\n",
    "weak_passwords_percentage = (weak_passwords_count / total_passwords) * 100\n",
    "\n",
    "# Display the results\n",
    "print(\"Number of passwords with strength rating below 5:\", weak_passwords_count)\n",
    "print(\"Percentage of passwords with strength rating below 5:\", weak_passwords_percentage)\n"
   ]
  },
  {
   "cell_type": "markdown",
   "metadata": {},
   "source": [
    "10. What is the most common password in the dataset?"
   ]
  },
  {
   "cell_type": "code",
   "execution_count": 32,
   "metadata": {},
   "outputs": [
    {
     "name": "stdout",
     "output_type": "stream",
     "text": [
      "The most common password in the dataset is: 1111\n"
     ]
    }
   ],
   "source": [
    "# Your answer here\n",
    "# Find the most common password in the dataset\n",
    "most_common_password = passwords['password'].mode()[0]\n",
    "\n",
    "# Display the result\n",
    "print(\"The most common password in the dataset is:\", most_common_password)\n"
   ]
  },
  {
   "cell_type": "markdown",
   "metadata": {},
   "source": [
    "11. How many unique passwords are there in each category, and what is their average length?"
   ]
  },
  {
   "cell_type": "code",
   "execution_count": 33,
   "metadata": {},
   "outputs": [
    {
     "name": "stdout",
     "output_type": "stream",
     "text": [
      "              category  unique_passwords  avg_length\n",
      "0               animal                29    6.206897\n",
      "1           cool-macho                79    6.253165\n",
      "2               fluffy                44    5.795455\n",
      "3                 food                11    6.090909\n",
      "4                 name               183    6.218579\n",
      "5            nerdy-pop                30    6.633333\n",
      "6     password-related                15    6.333333\n",
      "7      rebellious-rude                11    6.363636\n",
      "8  simple-alphanumeric                61    5.934426\n",
      "9                sport                37    6.513514\n"
     ]
    }
   ],
   "source": [
    "# Your answer here\n",
    "# Add a column for password length\n",
    "passwords['password_length'] = passwords['password'].str.len()\n",
    "\n",
    "# Group by 'category' and calculate unique count and average length\n",
    "category_stats = passwords.groupby('category').agg(\n",
    "    unique_passwords=('password', 'nunique'),  # Count unique passwords\n",
    "    avg_length=('password_length', 'mean')     # Calculate average password length\n",
    ").reset_index()\n",
    "\n",
    "# Display the results\n",
    "print(category_stats)\n"
   ]
  },
  {
   "cell_type": "markdown",
   "metadata": {},
   "source": [
    "12. What is the median rank and strength for passwords of each length?"
   ]
  },
  {
   "cell_type": "code",
   "execution_count": 35,
   "metadata": {},
   "outputs": [
    {
     "name": "stdout",
     "output_type": "stream",
     "text": [
      "   password_length  median_rank  median_strength\n",
      "0              4.0        326.0              6.0\n",
      "1              5.0        343.0              7.0\n",
      "2              6.0        231.0              7.0\n",
      "3              7.0        222.0              8.0\n",
      "4              8.0        286.0              8.0\n",
      "5              9.0         49.0              4.0\n"
     ]
    }
   ],
   "source": [
    "# Your answer here\n",
    "# Calculate password length and add it as a new column\n",
    "passwords['password_length'] = passwords['password'].str.len()\n",
    "\n",
    "# Group by password length and calculate median rank and median strength\n",
    "length_stats = passwords.groupby('password_length').agg(\n",
    "    median_rank=('rank', 'median'),\n",
    "    median_strength=('strength', 'median')\n",
    ").reset_index()\n",
    "\n",
    "# Display the results\n",
    "print(length_stats)\n"
   ]
  },
  {
   "cell_type": "markdown",
   "metadata": {},
   "source": [
    "13. Add a column `strength_label` with values `weak` if strength is below 5, else `strong`. Use a lambda function."
   ]
  },
  {
   "cell_type": "code",
   "execution_count": 37,
   "metadata": {},
   "outputs": [
    {
     "name": "stdout",
     "output_type": "stream",
     "text": [
      "     password  strength strength_label\n",
      "0    password       8.0         strong\n",
      "1      123456       4.0           weak\n",
      "2    12345678       4.0           weak\n",
      "3        1234       4.0           weak\n",
      "4      qwerty       8.0         strong\n",
      "..        ...       ...            ...\n",
      "502       NaN       NaN         strong\n",
      "503       NaN       NaN         strong\n",
      "504       NaN       NaN         strong\n",
      "505       NaN       NaN         strong\n",
      "506       NaN       NaN         strong\n",
      "\n",
      "[507 rows x 3 columns]\n"
     ]
    }
   ],
   "source": [
    "# Your answer here\n",
    "# Add a 'strength_label' column with values 'weak' or 'strong'\n",
    "passwords['strength_label'] = passwords['strength'].apply(lambda x: 'weak' if x < 5 else 'strong')\n",
    "\n",
    "# Display the resulting DataFrame with the new 'strength_label' column\n",
    "print(passwords[['password', 'strength', 'strength_label']])\n"
   ]
  },
  {
   "cell_type": "markdown",
   "metadata": {},
   "source": [
    "14. Create a column `high_value` with a value of `True` if value is in the top 10% of values in the dataset."
   ]
  },
  {
   "cell_type": "code",
   "execution_count": 38,
   "metadata": {},
   "outputs": [
    {
     "name": "stdout",
     "output_type": "stream",
     "text": [
      "     password  value  high_value\n",
      "0    password   6.91       False\n",
      "1      123456  18.52        True\n",
      "2    12345678   1.29       False\n",
      "3        1234  11.11        True\n",
      "4      qwerty   3.72       False\n",
      "..        ...    ...         ...\n",
      "502       NaN    NaN       False\n",
      "503       NaN    NaN       False\n",
      "504       NaN    NaN       False\n",
      "505       NaN    NaN       False\n",
      "506       NaN    NaN       False\n",
      "\n",
      "[507 rows x 3 columns]\n"
     ]
    }
   ],
   "source": [
    "# Your answer here\n",
    "# Calculate the threshold for the top 10% of values\n",
    "top_10_percent_threshold = passwords['value'].quantile(0.9)\n",
    "\n",
    "# Create the 'high_value' column\n",
    "passwords['high_value'] = passwords['value'] > top_10_percent_threshold\n",
    "\n",
    "# Display the resulting DataFrame with the new 'high_value' column\n",
    "print(passwords[['password', 'value', 'high_value']])\n"
   ]
  },
  {
   "cell_type": "markdown",
   "metadata": {},
   "source": [
    "15. Join all passwords within each `category` into a single string."
   ]
  },
  {
   "cell_type": "code",
   "execution_count": 39,
   "metadata": {},
   "outputs": [
    {
     "name": "stdout",
     "output_type": "stream",
     "text": [
      "              category                                   joined_passwords\n",
      "0               animal  dragon, monkey, bigdog, falcon, phoenix, tiger...\n",
      "1           cool-macho  mustang, shadow, master, harley, hunter, range...\n",
      "2               fluffy  love, sunshine, silver, orange, ginger, summer...\n",
      "3                 food  pepper, cheese, coffee, banana, butter, muffin...\n",
      "4                 name  michael, jennifer, jordan, superman, thomas, t...\n",
      "5            nerdy-pop  starwars, computer, merlin, matrix, snoopy, bo...\n",
      "6     password-related  password, letmein, test, pass, access, gateway...\n",
      "7      rebellious-rude  biteme, freedom, secret, whatever, badboy, sex...\n",
      "8  simple-alphanumeric  123456, 12345678, 1234, qwerty, 12345, 696969,...\n",
      "9                sport  baseball, football, soccer, hockey, dallas, ya...\n"
     ]
    }
   ],
   "source": [
    "# Your answer here\n",
    "# Join all passwords within each category into a single string\n",
    "joined_passwords = passwords.groupby('category')['password'].agg(lambda x: ', '.join(x)).reset_index()\n",
    "\n",
    "# Rename the column for clarity\n",
    "joined_passwords.rename(columns={'password': 'joined_passwords'}, inplace=True)\n",
    "\n",
    "# Display the resulting DataFrame\n",
    "print(joined_passwords)\n"
   ]
  },
  {
   "cell_type": "markdown",
   "metadata": {},
   "source": [
    "**Bonus question 01**: What is the correlation between password length and strength? Create a scatter plot with regression line."
   ]
  },
  {
   "cell_type": "code",
   "execution_count": 41,
   "metadata": {},
   "outputs": [
    {
     "data": {
      "image/png": "[encoded data removed]",
      "text/plain": [
       "<Figure size 1000x600 with 1 Axes>"
      ]
     },
     "metadata": {},
     "output_type": "display_data"
    }
   ],
   "source": [
    "# Your answer here\n",
    "import pandas as pd\n",
    "import seaborn as sns\n",
    "import matplotlib.pyplot as plt\n",
    "\n",
    "# Assuming you have already calculated the password length\n",
    "passwords['password_length'] = passwords['password'].str.len()\n",
    "\n",
    "# Create a scatter plot with a regression line\n",
    "plt.figure(figsize=(10, 6))\n",
    "sns.regplot(x='password_length', y='strength', data=passwords, scatter_kws={'alpha':0.5}, line_kws={'color':'red'})\n",
    "\n",
    "# Set labels and title\n",
    "plt.xlabel('Password Length')\n",
    "plt.ylabel('Strength Rating')\n",
    "plt.title('Correlation between Password Length and Strength Rating')\n",
    "\n",
    "# Show the plot\n",
    "plt.show()\n"
   ]
  },
  {
   "cell_type": "markdown",
   "metadata": {},
   "source": [
    "**Bonus question 02**: Find all passwords with palindromes."
   ]
  },
  {
   "cell_type": "code",
   "execution_count": 51,
   "metadata": {},
   "outputs": [
    {
     "name": "stdout",
     "output_type": "stream",
     "text": [
      "     password\n",
      "18     111111\n",
      "59     666666\n",
      "76       1111\n",
      "105    aaaaaa\n",
      "144    xxxxxx\n",
      "190    hannah\n",
      "192  11111111\n",
      "206   7777777\n",
      "277    222222\n",
      "285  xxxxxxxx\n",
      "286    777777\n",
      "291  88888888\n",
      "314      2112\n",
      "324      7777\n",
      "352    zzzzzz\n",
      "364    555555\n",
      "371      2222\n",
      "373      4444\n",
      "409     11111\n",
      "413    123321\n",
      "420    999999\n",
      "458    333333\n",
      "472      xxxx\n",
      "489    888888\n"
     ]
    }
   ],
   "source": [
    "# Your answer here\n",
    "# Function to check if a password is a palindrome\n",
    "def is_palindrome(password):\n",
    "    return password == password[::-1]\n",
    "\n",
    "# Filter the DataFrame to get all palindrome passwords\n",
    "palindrome_passwords = passwords[passwords['password'].apply(is_palindrome)]\n",
    "\n",
    "# Display the resulting DataFrame with palindrome passwords\n",
    "print(palindrome_passwords[['password']])\n"
   ]
  }
 ],
 "metadata": {
  "kernelspec": {
   "display_name": "base",
   "language": "python",
   "name": "python3"
  },
  "language_info": {
   "codemirror_mode": {
    "name": "ipython",
    "version": 3
   },
   "file_extension": ".py",
   "mimetype": "text/x-python",
   "name": "python",
   "nbconvert_exporter": "python",
   "pygments_lexer": "ipython3",
   "version": "3.11.4"
  }
 },
 "nbformat": 4,
 "nbformat_minor": 2
}
